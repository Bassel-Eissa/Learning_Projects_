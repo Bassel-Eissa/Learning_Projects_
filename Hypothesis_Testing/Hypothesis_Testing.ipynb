{
 "cells": [
  {
   "cell_type": "markdown",
   "metadata": {},
   "source": [
    "**This notebook will analyze data from a study on toddle sleep habits.**"
   ]
  },
  {
   "cell_type": "code",
   "execution_count": 8,
   "metadata": {},
   "outputs": [],
   "source": [
    "#Imports...\n",
    "import numpy as np\n",
    "import pandas as pd\n",
    "from scipy.stats import t\n",
    "from scipy.stats import ttest_ind\n",
    "pd.set_option('display.max_columns', 30) # set so can see all columns of the DataFrame"
   ]
  },
  {
   "cell_type": "code",
   "execution_count": 2,
   "metadata": {},
   "outputs": [
    {
     "data": {
      "text/html": [
       "<div>\n",
       "<style scoped>\n",
       "    .dataframe tbody tr th:only-of-type {\n",
       "        vertical-align: middle;\n",
       "    }\n",
       "\n",
       "    .dataframe tbody tr th {\n",
       "        vertical-align: top;\n",
       "    }\n",
       "\n",
       "    .dataframe thead th {\n",
       "        text-align: right;\n",
       "    }\n",
       "</style>\n",
       "<table border=\"1\" class=\"dataframe\">\n",
       "  <thead>\n",
       "    <tr style=\"text-align: right;\">\n",
       "      <th></th>\n",
       "      <th>id</th>\n",
       "      <th>sex</th>\n",
       "      <th>age (months)</th>\n",
       "      <th>dlmo time</th>\n",
       "      <th>days napped</th>\n",
       "      <th>napping</th>\n",
       "      <th>nap lights outl time</th>\n",
       "      <th>nap sleep onset</th>\n",
       "      <th>nap midsleep</th>\n",
       "      <th>nap sleep offset</th>\n",
       "      <th>nap wake time</th>\n",
       "      <th>nap duration</th>\n",
       "      <th>nap time in bed</th>\n",
       "      <th>night bedtime</th>\n",
       "      <th>night sleep onset</th>\n",
       "      <th>sleep onset latency</th>\n",
       "      <th>night midsleep time</th>\n",
       "      <th>night wake time</th>\n",
       "      <th>night sleep duration</th>\n",
       "      <th>night time in bed</th>\n",
       "      <th>24 h sleep duration</th>\n",
       "      <th>bedtime phase difference</th>\n",
       "      <th>sleep onset phase difference</th>\n",
       "      <th>midsleep phase difference</th>\n",
       "      <th>wake time phase difference</th>\n",
       "    </tr>\n",
       "  </thead>\n",
       "  <tbody>\n",
       "    <tr>\n",
       "      <th>0</th>\n",
       "      <td>1</td>\n",
       "      <td>female</td>\n",
       "      <td>33.7</td>\n",
       "      <td>19.24</td>\n",
       "      <td>0</td>\n",
       "      <td>0</td>\n",
       "      <td>NaN</td>\n",
       "      <td>NaN</td>\n",
       "      <td>NaN</td>\n",
       "      <td>NaN</td>\n",
       "      <td>NaN</td>\n",
       "      <td>NaN</td>\n",
       "      <td>NaN</td>\n",
       "      <td>20.45</td>\n",
       "      <td>20.68</td>\n",
       "      <td>0.23</td>\n",
       "      <td>1.92</td>\n",
       "      <td>7.17</td>\n",
       "      <td>629.4</td>\n",
       "      <td>643.0</td>\n",
       "      <td>629.4</td>\n",
       "      <td>-1.21</td>\n",
       "      <td>-1.44</td>\n",
       "      <td>6.68</td>\n",
       "      <td>11.93</td>\n",
       "    </tr>\n",
       "    <tr>\n",
       "      <th>1</th>\n",
       "      <td>2</td>\n",
       "      <td>female</td>\n",
       "      <td>31.5</td>\n",
       "      <td>18.27</td>\n",
       "      <td>0</td>\n",
       "      <td>0</td>\n",
       "      <td>NaN</td>\n",
       "      <td>NaN</td>\n",
       "      <td>NaN</td>\n",
       "      <td>NaN</td>\n",
       "      <td>NaN</td>\n",
       "      <td>NaN</td>\n",
       "      <td>NaN</td>\n",
       "      <td>19.23</td>\n",
       "      <td>19.48</td>\n",
       "      <td>0.25</td>\n",
       "      <td>1.09</td>\n",
       "      <td>6.69</td>\n",
       "      <td>672.4</td>\n",
       "      <td>700.4</td>\n",
       "      <td>672.4</td>\n",
       "      <td>-0.96</td>\n",
       "      <td>-1.21</td>\n",
       "      <td>6.82</td>\n",
       "      <td>12.42</td>\n",
       "    </tr>\n",
       "    <tr>\n",
       "      <th>2</th>\n",
       "      <td>3</td>\n",
       "      <td>male</td>\n",
       "      <td>31.9</td>\n",
       "      <td>19.14</td>\n",
       "      <td>0</td>\n",
       "      <td>0</td>\n",
       "      <td>NaN</td>\n",
       "      <td>NaN</td>\n",
       "      <td>NaN</td>\n",
       "      <td>NaN</td>\n",
       "      <td>NaN</td>\n",
       "      <td>NaN</td>\n",
       "      <td>NaN</td>\n",
       "      <td>19.60</td>\n",
       "      <td>20.05</td>\n",
       "      <td>0.45</td>\n",
       "      <td>1.29</td>\n",
       "      <td>6.53</td>\n",
       "      <td>628.8</td>\n",
       "      <td>682.6</td>\n",
       "      <td>628.8</td>\n",
       "      <td>-0.46</td>\n",
       "      <td>-0.91</td>\n",
       "      <td>6.15</td>\n",
       "      <td>11.39</td>\n",
       "    </tr>\n",
       "    <tr>\n",
       "      <th>3</th>\n",
       "      <td>4</td>\n",
       "      <td>female</td>\n",
       "      <td>31.6</td>\n",
       "      <td>19.69</td>\n",
       "      <td>0</td>\n",
       "      <td>0</td>\n",
       "      <td>NaN</td>\n",
       "      <td>NaN</td>\n",
       "      <td>NaN</td>\n",
       "      <td>NaN</td>\n",
       "      <td>NaN</td>\n",
       "      <td>NaN</td>\n",
       "      <td>NaN</td>\n",
       "      <td>19.46</td>\n",
       "      <td>19.50</td>\n",
       "      <td>0.05</td>\n",
       "      <td>1.89</td>\n",
       "      <td>8.28</td>\n",
       "      <td>766.6</td>\n",
       "      <td>784.0</td>\n",
       "      <td>766.6</td>\n",
       "      <td>0.23</td>\n",
       "      <td>0.19</td>\n",
       "      <td>6.20</td>\n",
       "      <td>12.59</td>\n",
       "    </tr>\n",
       "    <tr>\n",
       "      <th>4</th>\n",
       "      <td>5</td>\n",
       "      <td>female</td>\n",
       "      <td>33.0</td>\n",
       "      <td>19.52</td>\n",
       "      <td>0</td>\n",
       "      <td>0</td>\n",
       "      <td>NaN</td>\n",
       "      <td>NaN</td>\n",
       "      <td>NaN</td>\n",
       "      <td>NaN</td>\n",
       "      <td>NaN</td>\n",
       "      <td>NaN</td>\n",
       "      <td>NaN</td>\n",
       "      <td>19.21</td>\n",
       "      <td>19.65</td>\n",
       "      <td>0.45</td>\n",
       "      <td>1.30</td>\n",
       "      <td>6.95</td>\n",
       "      <td>678.0</td>\n",
       "      <td>718.0</td>\n",
       "      <td>678.0</td>\n",
       "      <td>0.31</td>\n",
       "      <td>-0.13</td>\n",
       "      <td>5.78</td>\n",
       "      <td>11.43</td>\n",
       "    </tr>\n",
       "  </tbody>\n",
       "</table>\n",
       "</div>"
      ],
      "text/plain": [
       "   id     sex  age (months)  dlmo time  days napped  napping  \\\n",
       "0   1  female          33.7      19.24            0        0   \n",
       "1   2  female          31.5      18.27            0        0   \n",
       "2   3    male          31.9      19.14            0        0   \n",
       "3   4  female          31.6      19.69            0        0   \n",
       "4   5  female          33.0      19.52            0        0   \n",
       "\n",
       "   nap lights outl time  nap sleep onset  nap midsleep  nap sleep offset  \\\n",
       "0                   NaN              NaN           NaN               NaN   \n",
       "1                   NaN              NaN           NaN               NaN   \n",
       "2                   NaN              NaN           NaN               NaN   \n",
       "3                   NaN              NaN           NaN               NaN   \n",
       "4                   NaN              NaN           NaN               NaN   \n",
       "\n",
       "   nap wake time  nap duration  nap time in bed  night bedtime  \\\n",
       "0            NaN           NaN              NaN          20.45   \n",
       "1            NaN           NaN              NaN          19.23   \n",
       "2            NaN           NaN              NaN          19.60   \n",
       "3            NaN           NaN              NaN          19.46   \n",
       "4            NaN           NaN              NaN          19.21   \n",
       "\n",
       "   night sleep onset  sleep onset latency  night midsleep time  \\\n",
       "0              20.68                 0.23                 1.92   \n",
       "1              19.48                 0.25                 1.09   \n",
       "2              20.05                 0.45                 1.29   \n",
       "3              19.50                 0.05                 1.89   \n",
       "4              19.65                 0.45                 1.30   \n",
       "\n",
       "   night wake time  night sleep duration  night time in bed  \\\n",
       "0             7.17                 629.4              643.0   \n",
       "1             6.69                 672.4              700.4   \n",
       "2             6.53                 628.8              682.6   \n",
       "3             8.28                 766.6              784.0   \n",
       "4             6.95                 678.0              718.0   \n",
       "\n",
       "   24 h sleep duration  bedtime phase difference  \\\n",
       "0                629.4                     -1.21   \n",
       "1                672.4                     -0.96   \n",
       "2                628.8                     -0.46   \n",
       "3                766.6                      0.23   \n",
       "4                678.0                      0.31   \n",
       "\n",
       "   sleep onset phase difference  midsleep phase difference  \\\n",
       "0                         -1.44                       6.68   \n",
       "1                         -1.21                       6.82   \n",
       "2                         -0.91                       6.15   \n",
       "3                          0.19                       6.20   \n",
       "4                         -0.13                       5.78   \n",
       "\n",
       "   wake time phase difference  \n",
       "0                       11.93  \n",
       "1                       12.42  \n",
       "2                       11.39  \n",
       "3                       12.59  \n",
       "4                       11.43  "
      ]
     },
     "execution_count": 2,
     "metadata": {},
     "output_type": "execute_result"
    }
   ],
   "source": [
    "# Import the data\n",
    "df = pd.read_csv(\"nap_no_nap.csv\") \n",
    "df.head()"
   ]
  },
  {
   "cell_type": "markdown",
   "metadata": {},
   "source": [
    "### My Goal:\n",
    "* Examine the differences in a night bedtime between napping and non-napping toddlers\n",
    "* The dataset includes more number of sleep varibles but we are focusing on the idea of hypothesis testing. "
   ]
  },
  {
   "cell_type": "markdown",
   "metadata": {},
   "source": [
    "## Hypothesis tests\n",
    "We will look at two hypothesis test, each with $\\alpha = .05$:  \n",
    "\n",
    "\n",
    "1. Is the average bedtime for toddlers who nap later than the average bedtime for toddlers who don't nap?\n",
    "\n",
    "\n",
    "$$H_0: \\mu_{nap}=\\mu_{no\\ nap}, \\ H_a:\\mu_{nap}>\\mu_{no\\ nap}$$\n",
    "Or equivalently:\n",
    "$$H_0: \\mu_{nap}-\\mu_{no\\ nap}=0, \\ H_a:\\mu_{nap}-\\mu_{no\\ nap}>0$$\n",
    "\n",
    "\n",
    "2. The average 24 h sleep duration (in minutes) for napping toddlers is different from toddlers who don't nap.\n",
    "\n",
    "\n",
    "$$H_0: \\mu_{nap}=\\mu_{no\\ nap}, \\ H_a:\\mu_{nap}\\neq\\mu_{no\\ nap}$$\n",
    "Or equivalently:\n",
    "$$H_0: \\mu_{nap}-\\mu_{no\\ nap}=0, \\ H_a:\\mu_{nap}-\\mu_{no\\ nap} \\neq 0$$"
   ]
  },
  {
   "cell_type": "code",
   "execution_count": 4,
   "metadata": {},
   "outputs": [],
   "source": [
    "#Create Dataframes from the main one...\n",
    "napping = df.query('napping == 1')['night bedtime']\n",
    "non_napping = df.query('napping == 0')['night bedtime']"
   ]
  },
  {
   "cell_type": "code",
   "execution_count": 5,
   "metadata": {},
   "outputs": [],
   "source": [
    "ntotal = df.shape[0]\n",
    "n1 = napping.shape[0]\n",
    "n2 = non_napping.shape[0]"
   ]
  },
  {
   "cell_type": "code",
   "execution_count": 6,
   "metadata": {},
   "outputs": [
    {
     "name": "stdout",
     "output_type": "stream",
     "text": [
      "20 15 5\n"
     ]
    }
   ],
   "source": [
    "print(ntotal, n1, n2)"
   ]
  },
  {
   "cell_type": "markdown",
   "metadata": {},
   "source": [
    "The number of total toddlers **20**. **15** of them are napping and the rest non-napping."
   ]
  },
  {
   "cell_type": "code",
   "execution_count": 10,
   "metadata": {},
   "outputs": [],
   "source": [
    "#This will perform a two sided ttest\n",
    "tstats, pvalue = ttest_ind(napping, non_napping, equal_var=True)"
   ]
  },
  {
   "cell_type": "markdown",
   "metadata": {
    "slideshow": {
     "slide_type": "slide"
    }
   },
   "source": [
    "In this case we are performing pooled t-test (Assuming the variance of the two populations are equal) which is not true for most situations.\n",
    "\n",
    "**The Advantages of that pooled t-test:**\n",
    "1. It is an exact procedure\n",
    "2. Consistent with other common statistical techniques, like regression and ANOVA.\n"
   ]
  },
  {
   "cell_type": "markdown",
   "metadata": {},
   "source": [
    "#### What if we used an unpooled t-test, welch test for example?\n",
    "1. It will give us an approximated procedure\n",
    "2. The degree of freedom will be complicated to calcu.\n",
    "3. It will not be consistent with statistical techniques, like regression and ANOVA.\n",
    "\n",
    "#### But Don't forget!\n",
    "1. It does not require assumption of equal population variance.\n",
    "2. Worked very well in most situations."
   ]
  },
  {
   "cell_type": "code",
   "execution_count": 11,
   "metadata": {},
   "outputs": [
    {
     "name": "stdout",
     "output_type": "stream",
     "text": [
      "0.026834082877686037\n"
     ]
    }
   ],
   "source": [
    "#The P-value for the two sided t-test:\n",
    "print(pvalue)"
   ]
  },
  {
   "cell_type": "code",
   "execution_count": 12,
   "metadata": {},
   "outputs": [
    {
     "name": "stdout",
     "output_type": "stream",
     "text": [
      "0.013417041438843019\n"
     ]
    }
   ],
   "source": [
    "#for a one-sided t-test:\n",
    "print(pvalue/2)"
   ]
  },
  {
   "cell_type": "markdown",
   "metadata": {},
   "source": [
    "In both cases the pvalue is less than 0.05, so we will reject the null hypothesis.\n",
    "\n",
    "**Conclusion** There is a difference in means of night bedtime between nopping and non-nopping toddlers."
   ]
  },
  {
   "cell_type": "markdown",
   "metadata": {},
   "source": [
    "#### Discussion on PDF - CDF - PPF what is the difference?"
   ]
  },
  {
   "cell_type": "code",
   "execution_count": 24,
   "metadata": {},
   "outputs": [
    {
     "data": {
      "image/png": "[encoded data removed]",
      "text/plain": [
       "<Figure size 432x288 with 1 Axes>"
      ]
     },
     "metadata": {
      "needs_background": "light"
     },
     "output_type": "display_data"
    }
   ],
   "source": [
    "from scipy.stats import t\n",
    "import matplotlib.pyplot as plt\n",
    "from shapely.geometry import LineString\n",
    "\n",
    "#make a t distribution with 20 deg of freedom...\n",
    "t_dist = t(20)\n",
    "\n",
    "#plot the PDF\n",
    "t_values = np.linspace(-3, 3, 1000)\n",
    "\n",
    "plt.plot(t_values, t_dist.pdf(t_values))\n",
    "plt.xlabel(\"T-Values\")\n",
    "plt.ylabel(\"Probability\")\n",
    "plt.title(\"PDF for t distribution\")\n",
    "plt.show()"
   ]
  },
  {
   "cell_type": "code",
   "execution_count": 25,
   "metadata": {},
   "outputs": [
    {
     "data": {
      "image/png": "[encoded data removed]",
      "text/plain": [
       "<Figure size 432x288 with 1 Axes>"
      ]
     },
     "metadata": {
      "needs_background": "light"
     },
     "output_type": "display_data"
    }
   ],
   "source": [
    "#Plot a CDF\n",
    "plt.plot(t_values, t_dist.cdf(t_values))\n",
    "plt.xlabel(\"T-Values\")\n",
    "plt.ylabel(\"Cummulative probabilities\")\n",
    "plt.title(\"CDF for t distribution\")\n",
    "plt.show()"
   ]
  },
  {
   "cell_type": "code",
   "execution_count": 34,
   "metadata": {},
   "outputs": [
    {
     "data": {
      "image/png": "[encoded data removed]",
      "text/plain": [
       "<Figure size 432x288 with 1 Axes>"
      ]
     },
     "metadata": {
      "needs_background": "light"
     },
     "output_type": "display_data"
    }
   ],
   "source": [
    "#If you want to get p-value for t_value = 2.64\n",
    "plt.plot(t_values, t_dist.cdf(t_values))\n",
    "plt.xlabel(\"T-Values\")\n",
    "plt.axvline(x = 0.65)\n",
    "plt.axhline(y=t.cdf(0.65,20))\n",
    "plt.ylabel(\"Cummulative probabilities\")\n",
    "plt.title(\"CDF for t distribution\")\n",
    "plt.show()"
   ]
  },
  {
   "cell_type": "code",
   "execution_count": 35,
   "metadata": {},
   "outputs": [
    {
     "data": {
      "image/png": "[encoded data removed]",
      "text/plain": [
       "<Figure size 432x288 with 1 Axes>"
      ]
     },
     "metadata": {
      "needs_background": "light"
     },
     "output_type": "display_data"
    }
   ],
   "source": [
    "#If you want to get p-value for t_value = 2.64\n",
    "plt.plot(t_values, t_dist.cdf(t_values))\n",
    "plt.xlabel(\"T-Values\")\n",
    "plt.axvline(x = t.ppf(0.4, 20))\n",
    "plt.axhline(y=0.4)\n",
    "plt.ylabel(\"Cummulative probabilities\")\n",
    "plt.title(\"CDF for t distribution\")\n",
    "plt.show()"
   ]
  },
  {
   "cell_type": "markdown",
   "metadata": {},
   "source": [
    "#### CDF - PPF\n",
    "\n",
    "* CDF will give you the value of t value and you will get the cummulative probability\n",
    "* PPF will give you the value of cummulative probability and you will get the t value"
   ]
  },
  {
   "cell_type": "code",
   "execution_count": null,
   "metadata": {},
   "outputs": [],
   "source": []
  }
 ],
 "metadata": {
  "kernelspec": {
   "display_name": "Python 3",
   "language": "python",
   "name": "python3"
  },
  "language_info": {
   "codemirror_mode": {
    "name": "ipython",
    "version": 3
   },
   "file_extension": ".py",
   "mimetype": "text/x-python",
   "name": "python",
   "nbconvert_exporter": "python",
   "pygments_lexer": "ipython3",
   "version": "3.8.5"
  }
 },
 "nbformat": 4,
 "nbformat_minor": 4
}
